{
 "cells": [
  {
   "cell_type": "code",
   "execution_count": 1,
   "metadata": {},
   "outputs": [
    {
     "name": "stdout",
     "output_type": "stream",
     "text": [
      "Hello World\n",
      "Hello NCTU\n"
     ]
    }
   ],
   "source": [
    "Name = \"Hello World\"\n",
    "print (Name)\n",
    "Name = \"Hello NCTU\"\n",
    "print (Name)"
   ]
  },
  {
   "cell_type": "code",
   "execution_count": 2,
   "metadata": {},
   "outputs": [
    {
     "name": "stdout",
     "output_type": "stream",
     "text": [
      "Hello World\n",
      "<class 'str'>\n"
     ]
    }
   ],
   "source": [
    "Name = \"Hello World\"\n",
    "print (Name)\n",
    "print (type(Name))"
   ]
  },
  {
   "cell_type": "code",
   "execution_count": 3,
   "metadata": {},
   "outputs": [
    {
     "name": "stdout",
     "output_type": "stream",
     "text": [
      "True\n"
     ]
    }
   ],
   "source": [
    "bool = True\n",
    "if bool == True:\n",
    "    print(\"True\")\n",
    "else:\n",
    "    print(\"False\")"
   ]
  },
  {
   "cell_type": "code",
   "execution_count": 4,
   "metadata": {},
   "outputs": [
    {
     "name": "stdout",
     "output_type": "stream",
     "text": [
      "False\n"
     ]
    }
   ],
   "source": [
    "a=3 # 宣告變數a為3，此式不會有產出\n",
    "print(a > 7) # 計算3是否「大於」7"
   ]
  },
  {
   "cell_type": "code",
   "execution_count": 5,
   "metadata": {},
   "outputs": [],
   "source": [
    "8 + 9\n",
    "10 - 8\n",
    "10/2\n",
    "10 * 2\n",
    "10**2\n",
    "8 % 9\n",
    "a+=5"
   ]
  },
  {
   "cell_type": "code",
   "execution_count": 6,
   "metadata": {},
   "outputs": [
    {
     "name": "stdout",
     "output_type": "stream",
     "text": [
      "You are still young.\n"
     ]
    }
   ],
   "source": [
    "myage = 35\n",
    "if myage > 40:\n",
    "    print(\"man, you are old.\")\n",
    "elif myage > 35:\n",
    "    print(\"You are getting old.\")\n",
    "else:\n",
    "    print(\"You are still young.\")"
   ]
  },
  {
   "cell_type": "code",
   "execution_count": 7,
   "metadata": {},
   "outputs": [
    {
     "name": "stdout",
     "output_type": "stream",
     "text": [
      "You are still young.\n"
     ]
    }
   ],
   "source": [
    "myage = 35\n",
    "if myage > 35 and myage < 40:\n",
    "    print(\"You are getting old.\")\n",
    "else:\n",
    "    print(\"You are still young.\")"
   ]
  },
  {
   "cell_type": "code",
   "execution_count": 8,
   "metadata": {},
   "outputs": [
    {
     "name": "stdout",
     "output_type": "stream",
     "text": [
      "joshyang\n",
      "J\n",
      "JoshYang’s book\n"
     ]
    }
   ],
   "source": [
    "name = \"JoshYang\"\n",
    "print(name.lower())\n",
    "print(name[0])\n",
    "name = \"JoshYang’s book\"\n",
    "print(name)"
   ]
  },
  {
   "cell_type": "code",
   "execution_count": 9,
   "metadata": {},
   "outputs": [
    {
     "name": "stdout",
     "output_type": "stream",
     "text": [
      "JoshYang\n"
     ]
    }
   ],
   "source": [
    "name = \"Josh\\\n",
    "Yang\"\n",
    "print(name)"
   ]
  },
  {
   "cell_type": "code",
   "execution_count": 10,
   "metadata": {},
   "outputs": [
    {
     "name": "stdout",
     "output_type": "stream",
     "text": [
      "['milk', 'meat', 'mask', 42, True, 'milk']\n",
      "['milk', 'meat', 'mask', 42, True, 'milk', 'chicken breast']\n",
      "['milk', 'meat', 'mask', 42, True, 'milk', 'chicken breast', 'chicken breast']\n"
     ]
    }
   ],
   "source": [
    "groceries = [\"milk\", \"meat\", \"mask\", 42, True, \"milk\"]\n",
    "print(groceries)\n",
    "groceries.append(\"chicken breast\")\n",
    "print(groceries)\n",
    "groceries.append(\"chicken breast\")\n",
    "print(groceries)"
   ]
  },
  {
   "cell_type": "code",
   "execution_count": 11,
   "metadata": {},
   "outputs": [
    {
     "name": "stdout",
     "output_type": "stream",
     "text": [
      "milk\n",
      "milk\n",
      "J\n",
      "Jo\n"
     ]
    }
   ],
   "source": [
    "groceries = [\"milk\", \"meat\", \"mask\", 42, True, \"milk\"]\n",
    "print(groceries[0])\n",
    "print(groceries[-1])\n",
    "name =\"JoshYang\"\n",
    "print(name[0])\n",
    "print(name[0:2])"
   ]
  },
  {
   "cell_type": "code",
   "execution_count": 12,
   "metadata": {},
   "outputs": [
    {
     "name": "stdout",
     "output_type": "stream",
     "text": [
      "milk\n",
      "mi\n"
     ]
    }
   ],
   "source": [
    "groceries = [\"milk\", \"meat\", \"mask\", 42, True, \"milk\"]\n",
    "print(groceries[0])\n",
    "print(groceries[0][0:2])"
   ]
  },
  {
   "cell_type": "code",
   "execution_count": 13,
   "metadata": {},
   "outputs": [
    {
     "name": "stdout",
     "output_type": "stream",
     "text": [
      "['milk', 'meat', 'mask', 42, True, 'milk']\n"
     ]
    }
   ],
   "source": [
    "groceries = [\"milk\", \"meat\", \"mask\", 42, True, \"milk\"]\n",
    "\n",
    "# groceries.append(\"beaf\")\n",
    "# groceries.remove(\"meat\")\n",
    "# groceries.count(\"milk\")\n",
    "# del groceries\n",
    "\n",
    "print(groceries)"
   ]
  },
  {
   "cell_type": "code",
   "execution_count": 14,
   "metadata": {},
   "outputs": [
    {
     "name": "stdout",
     "output_type": "stream",
     "text": [
      "{'meat', 'mask', 'milk'}\n",
      "{'beaf', 'meat', 'mask', 'milk'}\n"
     ]
    }
   ],
   "source": [
    "groceries = {\"milk\", \"meat\", \"mask\", \"meat\"}\n",
    "print(groceries)\n",
    "groceries.add(\"beaf\")\n",
    "print(groceries)"
   ]
  },
  {
   "cell_type": "code",
   "execution_count": 15,
   "metadata": {},
   "outputs": [
    {
     "name": "stdout",
     "output_type": "stream",
     "text": [
      "['milk', 'meat', 'mask', 'meat']\n",
      "{'meat', 'mask', 'milk'}\n"
     ]
    }
   ],
   "source": [
    "groceries = [\"milk\", \"meat\", \"mask\", \"meat\"]\n",
    "print(groceries)\n",
    "uniitem = set(groceries)\n",
    "print(uniitem)"
   ]
  },
  {
   "cell_type": "code",
   "execution_count": 16,
   "metadata": {},
   "outputs": [
    {
     "name": "stdout",
     "output_type": "stream",
     "text": [
      "veg\n"
     ]
    }
   ],
   "source": [
    "groceries = dict()\n",
    "groceries = {\"beans\" : \"veg\", \"beaf\" : \"meat\", \"pork\" : \"meat\"}\n",
    "print(groceries[\"beans\"])"
   ]
  },
  {
   "cell_type": "code",
   "execution_count": 17,
   "metadata": {},
   "outputs": [
    {
     "name": "stdout",
     "output_type": "stream",
     "text": [
      "cat\n",
      "dog\n",
      "turtle\n"
     ]
    }
   ],
   "source": [
    "animals =[\"cat\", \"dog\", \"turtle\"]\n",
    "for item in animals:\n",
    "    print(item)"
   ]
  },
  {
   "cell_type": "code",
   "execution_count": 18,
   "metadata": {},
   "outputs": [
    {
     "name": "stdout",
     "output_type": "stream",
     "text": [
      "name\n",
      "Josh\n",
      "age\n",
      "40\n",
      "occupation\n",
      "teacher\n"
     ]
    }
   ],
   "source": [
    "person ={\n",
    "\"name\" : \"Josh\",\n",
    "\"age\" : 40,\n",
    "\"occupation\" : \"teacher\",\n",
    "}\n",
    "for item in person:\n",
    "    print(item)\n",
    "    print(person[item])"
   ]
  },
  {
   "cell_type": "code",
   "execution_count": 19,
   "metadata": {},
   "outputs": [
    {
     "name": "stdout",
     "output_type": "stream",
     "text": [
      "name Josh\n",
      "age 40\n",
      "occupation teacher\n"
     ]
    }
   ],
   "source": [
    "person ={\n",
    "\"name\" : \"Josh\",\n",
    "\"age\" : 40,\n",
    "\"occupation\" : \"teacher\",\n",
    "}\n",
    "person.items()\n",
    "for key, value in person.items():\n",
    "    print(key, value)"
   ]
  },
  {
   "cell_type": "code",
   "execution_count": 20,
   "metadata": {},
   "outputs": [
    {
     "name": "stdout",
     "output_type": "stream",
     "text": [
      "4950\n"
     ]
    }
   ],
   "source": [
    "result = 0\n",
    "for i in range(100):\n",
    "    result += i\n",
    "print(result)"
   ]
  },
  {
   "cell_type": "code",
   "execution_count": 21,
   "metadata": {},
   "outputs": [
    {
     "name": "stdout",
     "output_type": "stream",
     "text": [
      "100\n",
      "90\n",
      "80\n",
      "70\n",
      "60\n",
      "50\n",
      "40\n",
      "30\n",
      "20\n",
      "100\n",
      "90\n",
      "80\n",
      "70\n",
      "60\n",
      "50\n",
      "40\n",
      "30\n",
      "20\n"
     ]
    }
   ],
   "source": [
    "num = 100\n",
    "while num > 10:\n",
    "    print(num)\n",
    "    num = num - 10\n",
    "\n",
    "num = 100\n",
    "while num > 10:\n",
    "    print(num)\n",
    "    num -= 10"
   ]
  },
  {
   "cell_type": "code",
   "execution_count": 22,
   "metadata": {},
   "outputs": [
    {
     "name": "stdout",
     "output_type": "stream",
     "text": [
      "hello world\n"
     ]
    }
   ],
   "source": [
    "def hellofunction():\n",
    "    print(\"hello world\")\n",
    "hellofunction()"
   ]
  },
  {
   "cell_type": "code",
   "execution_count": 23,
   "metadata": {},
   "outputs": [
    {
     "name": "stdout",
     "output_type": "stream",
     "text": [
      "hello world\n",
      "my name is Josh.\n"
     ]
    }
   ],
   "source": [
    "def hellofunction(name):\n",
    "    print(\"hello world\")\n",
    "    print(\"my name is \" + name +\".\")\n",
    "hellofunction(\"Josh\")"
   ]
  },
  {
   "cell_type": "code",
   "execution_count": 24,
   "metadata": {},
   "outputs": [
    {
     "name": "stdout",
     "output_type": "stream",
     "text": [
      "20\n",
      "200\n"
     ]
    }
   ],
   "source": [
    "def calfunction(num):\n",
    "    answer = num * 2\n",
    "    print (answer)\n",
    "calfunction(10)\n",
    "def calfunction(num1, num2):\n",
    "    answer = num1 * num2\n",
    "    print (answer)\n",
    "calfunction(10, 20)"
   ]
  },
  {
   "cell_type": "code",
   "execution_count": 25,
   "metadata": {},
   "outputs": [
    {
     "name": "stdout",
     "output_type": "stream",
     "text": [
      "20\n",
      "None\n"
     ]
    }
   ],
   "source": [
    "def calfunction(num):\n",
    "    answer = num * 2\n",
    "    print (answer)\n",
    "result = calfunction(10)\n",
    "print(result)"
   ]
  },
  {
   "cell_type": "code",
   "execution_count": 26,
   "metadata": {},
   "outputs": [
    {
     "name": "stdout",
     "output_type": "stream",
     "text": [
      "10\n",
      "16\n"
     ]
    }
   ],
   "source": [
    "def calfunction(num = 5):\n",
    "    answer = num * 2\n",
    "    return answer\n",
    "result = calfunction()\n",
    "print(result)\n",
    "result = calfunction(8)\n",
    "print(result)"
   ]
  },
  {
   "cell_type": "code",
   "execution_count": 27,
   "metadata": {},
   "outputs": [
    {
     "data": {
      "text/plain": [
       "3"
      ]
     },
     "execution_count": 27,
     "metadata": {},
     "output_type": "execute_result"
    }
   ],
   "source": [
    "add = lambda x, y: x + y\n",
    "add(1, 2)"
   ]
  },
  {
   "cell_type": "code",
   "execution_count": 28,
   "metadata": {},
   "outputs": [
    {
     "name": "stdout",
     "output_type": "stream",
     "text": [
      "[1, 2, 3, 4, 5, 6]\n",
      "[{'first': 'Alan', 'last': 'Turing', 'YOB': 1912}, {'first': 'Grace', 'last': 'Hopper', 'YOB': 1906}, {'first': 'Guido', 'last': 'Van Rossum', 'YOB': 1956}]\n"
     ]
    }
   ],
   "source": [
    "data = [{'first':'Guido', 'last':'Van Rossum', 'YOB':1956\n",
    "},{'first':'Grace', 'last':'Hopper', 'YOB':1906\n",
    "},{'first':'Alan', 'last':'Turing', 'YOB':1912}]\n",
    "   \n",
    "print(sorted([2,4,3,5,1,6]))\n",
    "\n",
    "print(sorted(data, key=lambda item: item['first']))"
   ]
  },
  {
   "cell_type": "code",
   "execution_count": 29,
   "metadata": {},
   "outputs": [
    {
     "name": "stdout",
     "output_type": "stream",
     "text": [
      "12\n"
     ]
    }
   ],
   "source": [
    "age = input(\"What is your age\")\n",
    "print(age)"
   ]
  },
  {
   "cell_type": "code",
   "execution_count": 30,
   "metadata": {},
   "outputs": [
    {
     "name": "stdout",
     "output_type": "stream",
     "text": [
      "<class 'list'>\n",
      "This is a text file\n"
     ]
    }
   ],
   "source": [
    "f = open(\"./test.txt\", \"r\")\n",
    "lines = f.readlines()\n",
    "print(type(lines))\n",
    "for line in lines:\n",
    "    print (line)\n",
    "f.close()"
   ]
  },
  {
   "cell_type": "code",
   "execution_count": 31,
   "metadata": {},
   "outputs": [
    {
     "name": "stdout",
     "output_type": "stream",
     "text": [
      "\n"
     ]
    }
   ],
   "source": [
    "import linecache\n",
    "text = linecache.getline(\"/Users/joshyang/Desktop/test.txt\",1)\n",
    "print (text)"
   ]
  },
  {
   "cell_type": "code",
   "execution_count": 32,
   "metadata": {},
   "outputs": [
    {
     "name": "stdout",
     "output_type": "stream",
     "text": [
      "['', '']\n"
     ]
    }
   ],
   "source": [
    "text = [linecache.getline(\"/Users/joshyang/Desktop/test.txt\",i) for i in range(1,3)]\n",
    "print (text)"
   ]
  },
  {
   "cell_type": "code",
   "execution_count": 33,
   "metadata": {},
   "outputs": [],
   "source": [
    "f = open(\"./test.txt\", \"w\")\n",
    "f.write(\"This is a text file\")\n",
    "f.close()"
   ]
  }
 ],
 "metadata": {
  "kernelspec": {
   "display_name": "Python 3",
   "language": "python",
   "name": "python3"
  },
  "language_info": {
   "codemirror_mode": {
    "name": "ipython",
    "version": 3
   },
   "file_extension": ".py",
   "mimetype": "text/x-python",
   "name": "python",
   "nbconvert_exporter": "python",
   "pygments_lexer": "ipython3",
   "version": "3.12.4"
  }
 },
 "nbformat": 4,
 "nbformat_minor": 2
}
